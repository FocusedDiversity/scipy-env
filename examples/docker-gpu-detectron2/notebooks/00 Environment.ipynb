{
 "cells": [
  {
   "cell_type": "markdown",
   "metadata": {},
   "source": [
    "# NVIDIA Driver\n",
    "\n",
    "You'll need a functional nvidia compute capability 5.3 or better card. This basically means\n",
    "Testa P series or Geforce GTX 10 series or better. See https://developer.nvidia.com/cuda-gpus\n",
    "for more details."
   ]
  },
  {
   "cell_type": "markdown",
   "metadata": {},
   "source": [
    "Ensure nvidia-smi can see your gpu. Should look something like this:\n",
    "    \n",
    "```\n",
    "+-----------------------------------------------------------------------------+\n",
    "| NVIDIA-SMI 435.21       Driver Version: 435.21       CUDA Version: 10.1     |\n",
    "|-------------------------------+----------------------+----------------------+\n",
    "| GPU  Name        Persistence-M| Bus-Id        Disp.A | Volatile Uncorr. ECC |\n",
    "| Fan  Temp  Perf  Pwr:Usage/Cap|         Memory-Usage | GPU-Util  Compute M. |\n",
    "|===============================+======================+======================|\n",
    "|   0  GeForce GTX 106...  Off  | 00000000:01:00.0  On |                  N/A |\n",
    "|  0%   35C    P8     7W / 120W |    454MiB /  6075MiB |      0%      Default |\n",
    "+-------------------------------+----------------------+----------------------+\n",
    "```"
   ]
  },
  {
   "cell_type": "code",
   "execution_count": 1,
   "metadata": {},
   "outputs": [
    {
     "name": "stdout",
     "output_type": "stream",
     "text": [
      "Tue Jan  7 21:22:01 2020       \n",
      "+-----------------------------------------------------------------------------+\n",
      "| NVIDIA-SMI 435.21       Driver Version: 435.21       CUDA Version: 10.1     |\n",
      "|-------------------------------+----------------------+----------------------+\n",
      "| GPU  Name        Persistence-M| Bus-Id        Disp.A | Volatile Uncorr. ECC |\n",
      "| Fan  Temp  Perf  Pwr:Usage/Cap|         Memory-Usage | GPU-Util  Compute M. |\n",
      "|===============================+======================+======================|\n",
      "|   0  GeForce GTX 106...  Off  | 00000000:01:00.0  On |                  N/A |\n",
      "|  0%   33C    P8     7W / 120W |    446MiB /  6075MiB |      0%      Default |\n",
      "+-------------------------------+----------------------+----------------------+\n",
      "                                                                               \n",
      "+-----------------------------------------------------------------------------+\n",
      "| Processes:                                                       GPU Memory |\n",
      "|  GPU       PID   Type   Process name                             Usage      |\n",
      "|=============================================================================|\n",
      "+-----------------------------------------------------------------------------+\n"
     ]
    }
   ],
   "source": [
    "!nvidia-smi"
   ]
  },
  {
   "cell_type": "markdown",
   "metadata": {},
   "source": [
    "# Working Directories "
   ]
  },
  {
   "cell_type": "code",
   "execution_count": 3,
   "metadata": {},
   "outputs": [
    {
     "name": "stdout",
     "output_type": "stream",
     "text": [
      "\tdirectory: True readable: True writable: False \t ../data\n",
      "\tdirectory: True readable: True writable: True \t ../src\n",
      "\tdirectory: True readable: True writable: False \t ../scratch\n"
     ]
    }
   ],
   "source": [
    "import os\n",
    "from os import makedirs\n",
    "from os.path import isdir\n",
    "\n",
    "readable = [\"../data\"]\n",
    "writable = [\n",
    "    \"../src\",\n",
    "    \"../scratch\"\n",
    "]\n",
    "\n",
    "for f in writable:\n",
    "    makedirs(f, exist_ok=True)\n",
    "    \n",
    "for f in readable + writable:\n",
    "    print(\"\\tdirectory:\", isdir(f), \"readable:\", os.access(f, os.R_OK), \"writable:\", os.access(f, os.W_OK), \"\\t\", f)"
   ]
  },
  {
   "cell_type": "markdown",
   "metadata": {},
   "source": [
    "# Detectron2"
   ]
  },
  {
   "cell_type": "code",
   "execution_count": 13,
   "metadata": {},
   "outputs": [
    {
     "name": "stdout",
     "output_type": "stream",
     "text": [
      "--2020-01-07 21:29:41--  http://images.cocodataset.org/val2017/000000439715.jpg\n",
      "Resolving images.cocodataset.org (images.cocodataset.org)... 52.217.10.172\n",
      "Connecting to images.cocodataset.org (images.cocodataset.org)|52.217.10.172|:80... connected.\n",
      "HTTP request sent, awaiting response... 200 OK\n",
      "Length: 209222 (204K) [image/jpeg]\n",
      "Saving to: ‘input.jpg’\n",
      "\n",
      "input.jpg           100%[===================>] 204.32K  --.-KB/s    in 0.02s   \n",
      "\n",
      "2020-01-07 21:29:41 (10.8 MB/s) - ‘input.jpg’ saved [209222/209222]\n",
      "\n",
      "Traceback (most recent call last):\n",
      "  File \"../src/demo/demo.py\", line 7, in <module>\n",
      "    import cv2\n",
      "ModuleNotFoundError: No module named 'cv2'\n"
     ]
    }
   ],
   "source": [
    "! wget http://images.cocodataset.org/val2017/000000439715.jpg -O input.jpg\n",
    "! python3 ../src/demo/demo.py  \\\n",
    "\t--config-file ../src/configs/COCO-InstanceSegmentation/mask_rcnn_R_50_FPN_3x.yaml \\\n",
    "\t--input input.jpg --output ../scratch / \\\n",
    "\t--opts MODEL.WEIGHTS detectron2://COCO-InstanceSegmentation/mask_rcnn_R_50_FPN_3x/137849600/model_final_f10217.pkl"
   ]
  },
  {
   "cell_type": "code",
   "execution_count": 12,
   "metadata": {},
   "outputs": [
    {
     "name": "stdout",
     "output_type": "stream",
     "text": [
      "Base-RCNN-C4.yaml           \u001b[0m\u001b[01;34mCityscapes\u001b[0m/                 demo.py\n",
      "Base-RCNN-DilatedC5.yaml    \u001b[01;34mDetectron1-Comparisons\u001b[0m/     \u001b[01;34mquick_schedules\u001b[0m/\n",
      "Base-RCNN-FPN.yaml          \u001b[01;34mLVIS-InstanceSegmentation\u001b[0m/  setup.py\n",
      "Base-RetinaNet.yaml         \u001b[01;34mMisc\u001b[0m/                       \u001b[01;34msynaptiq\u001b[0m/\n",
      "\u001b[01;34mCOCO-Detection\u001b[0m/             \u001b[01;34mPascalVOC-Detection\u001b[0m/        \u001b[01;34msynaptiq.egg-info\u001b[0m/\n",
      "\u001b[01;34mCOCO-InstanceSegmentation\u001b[0m/  README.md                   \u001b[01;34mtests\u001b[0m/\n",
      "\u001b[01;34mCOCO-Keypoints\u001b[0m/             \u001b[01;34mconfigs\u001b[0m/\n",
      "\u001b[01;34mCOCO-PanopticSegmentation\u001b[0m/  \u001b[01;34mdemo\u001b[0m/\n"
     ]
    }
   ],
   "source": [
    "ls ../src"
   ]
  },
  {
   "cell_type": "code",
   "execution_count": null,
   "metadata": {},
   "outputs": [],
   "source": []
  }
 ],
 "metadata": {
  "kernelspec": {
   "display_name": "Python 3",
   "language": "python",
   "name": "python3"
  },
  "language_info": {
   "codemirror_mode": {
    "name": "ipython",
    "version": 3
   },
   "file_extension": ".py",
   "mimetype": "text/x-python",
   "name": "python",
   "nbconvert_exporter": "python",
   "pygments_lexer": "ipython3",
   "version": "3.7.4"
  }
 },
 "nbformat": 4,
 "nbformat_minor": 4
}
