{
 "cells": [
  {
   "cell_type": "markdown",
   "metadata": {},
   "source": [
    "# NVIDIA Driver\n",
    "\n",
    "You'll need a functional nvidia compute capability 5.3 or better card. This basically means\n",
    "Testa P series or Geforce GTX 10 series or better. See https://developer.nvidia.com/cuda-gpus\n",
    "for more details."
   ]
  },
  {
   "cell_type": "markdown",
   "metadata": {},
   "source": [
    "Ensure nvidia-smi can see your gpu. Should look something like this:\n",
    "    \n",
    "```\n",
    "+-----------------------------------------------------------------------------+\n",
    "| NVIDIA-SMI 435.21       Driver Version: 435.21       CUDA Version: 10.1     |\n",
    "|-------------------------------+----------------------+----------------------+\n",
    "| GPU  Name        Persistence-M| Bus-Id        Disp.A | Volatile Uncorr. ECC |\n",
    "| Fan  Temp  Perf  Pwr:Usage/Cap|         Memory-Usage | GPU-Util  Compute M. |\n",
    "|===============================+======================+======================|\n",
    "|   0  GeForce GTX 106...  Off  | 00000000:01:00.0  On |                  N/A |\n",
    "|  0%   35C    P8     7W / 120W |    454MiB /  6075MiB |      0%      Default |\n",
    "+-------------------------------+----------------------+----------------------+\n",
    "```"
   ]
  },
  {
   "cell_type": "code",
   "execution_count": 1,
   "metadata": {},
   "outputs": [
    {
     "name": "stdout",
     "output_type": "stream",
     "text": [
      "Sun Jan  5 12:45:02 2020       \n",
      "+-----------------------------------------------------------------------------+\n",
      "| NVIDIA-SMI 418.87.01    Driver Version: 418.87.01    CUDA Version: 10.1     |\n",
      "|-------------------------------+----------------------+----------------------+\n",
      "| GPU  Name        Persistence-M| Bus-Id        Disp.A | Volatile Uncorr. ECC |\n",
      "| Fan  Temp  Perf  Pwr:Usage/Cap|         Memory-Usage | GPU-Util  Compute M. |\n",
      "|===============================+======================+======================|\n",
      "|   0  Tesla T4            On   | 00000000:00:1E.0 Off |                    0 |\n",
      "| N/A   30C    P8     9W /  70W |      0MiB / 15079MiB |      0%      Default |\n",
      "+-------------------------------+----------------------+----------------------+\n",
      "                                                                               \n",
      "+-----------------------------------------------------------------------------+\n",
      "| Processes:                                                       GPU Memory |\n",
      "|  GPU       PID   Type   Process name                             Usage      |\n",
      "|=============================================================================|\n",
      "|  No running processes found                                                 |\n",
      "+-----------------------------------------------------------------------------+\n"
     ]
    }
   ],
   "source": [
    "!nvidia-smi"
   ]
  },
  {
   "cell_type": "markdown",
   "metadata": {},
   "source": [
    "# TensorFlow GPU support\n",
    "\n",
    "Ensure tensorflow has functional gpu support. You should have a GPU line \n",
    "referencing the GPU identified by nvidia-smi above."
   ]
  },
  {
   "cell_type": "code",
   "execution_count": 2,
   "metadata": {},
   "outputs": [
    {
     "name": "stdout",
     "output_type": "stream",
     "text": [
      "Default GPU Device: /device:GPU:0\n",
      "[[22. 28.]\n",
      " [49. 64.]]\n"
     ]
    }
   ],
   "source": [
    "import tensorflow as tf\n",
    "if tf.test.gpu_device_name():\n",
    "    print('Default GPU Device: {}'.format(tf.test.gpu_device_name()))\n",
    "else:\n",
    "    print(\"Please install GPU version of TF\")\n",
    "    \n",
    "with tf.device(tf.test.gpu_device_name()):\n",
    "    a = tf.constant([1.0, 2.0, 3.0, 4.0, 5.0, 6.0], shape=[2, 3], name='a')\n",
    "    b = tf.constant([1.0, 2.0, 3.0, 4.0, 5.0, 6.0], shape=[3, 2], name='b')\n",
    "    c = tf.matmul(a, b)\n",
    "    # Creates a session with log_device_placement set to True.\n",
    "    sess = tf.Session(config=tf.ConfigProto())\n",
    "    # Runs the op.\n",
    "    r = sess.run(c)\n",
    "    print(r)\n",
    "    import numpy as np\n",
    "    assert np.all(r == np.array([[22., 28.], [49., 64.]]))"
   ]
  },
  {
   "cell_type": "markdown",
   "metadata": {},
   "source": [
    "# Working Directories "
   ]
  },
  {
   "cell_type": "code",
   "execution_count": 4,
   "metadata": {},
   "outputs": [
    {
     "name": "stdout",
     "output_type": "stream",
     "text": [
      "\tdirectory: True readable: True writable: False \t ../data\n",
      "\tdirectory: True readable: True writable: True \t ../src\n",
      "\tdirectory: True readable: True writable: True \t ../scratch\n"
     ]
    }
   ],
   "source": [
    "import os\n",
    "from os import makedirs\n",
    "from os.path import isdir\n",
    "\n",
    "readable = [\"../data\"]\n",
    "writable = [\n",
    "    \"../src\",\n",
    "    \"../scratch\"\n",
    "]\n",
    "\n",
    "for f in writable:\n",
    "    makedirs(f, exist_ok=True)\n",
    "    \n",
    "for f in readable + writable:\n",
    "    print(\"\\tdirectory:\", isdir(f), \"readable:\", os.access(f, os.R_OK), \"writable:\", os.access(f, os.W_OK), \"\\t\", f)"
   ]
  }
 ],
 "metadata": {
  "kernelspec": {
   "display_name": "Python 3",
   "language": "python",
   "name": "python3"
  },
  "language_info": {
   "codemirror_mode": {
    "name": "ipython",
    "version": 3
   },
   "file_extension": ".py",
   "mimetype": "text/x-python",
   "name": "python",
   "nbconvert_exporter": "python",
   "pygments_lexer": "ipython3",
   "version": "3.7.4"
  }
 },
 "nbformat": 4,
 "nbformat_minor": 4
}
