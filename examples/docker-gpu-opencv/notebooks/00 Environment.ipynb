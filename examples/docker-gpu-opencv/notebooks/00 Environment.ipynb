{
 "cells": [
  {
   "cell_type": "markdown",
   "metadata": {},
   "source": [
    "# NVIDIA Driver\n",
    "\n",
    "You'll need a functional nvidia compute capability 5.3 or better card. This basically means\n",
    "Testa P series or Geforce GTX 10 series or better. See https://developer.nvidia.com/cuda-gpus\n",
    "for more details."
   ]
  },
  {
   "cell_type": "markdown",
   "metadata": {},
   "source": [
    "Ensure nvidia-smi can see your gpu. Should look something like this:\n",
    "    \n",
    "```\n",
    "+-----------------------------------------------------------------------------+\n",
    "| NVIDIA-SMI 435.21       Driver Version: 435.21       CUDA Version: 10.1     |\n",
    "|-------------------------------+----------------------+----------------------+\n",
    "| GPU  Name        Persistence-M| Bus-Id        Disp.A | Volatile Uncorr. ECC |\n",
    "| Fan  Temp  Perf  Pwr:Usage/Cap|         Memory-Usage | GPU-Util  Compute M. |\n",
    "|===============================+======================+======================|\n",
    "|   0  GeForce GTX 106...  Off  | 00000000:01:00.0  On |                  N/A |\n",
    "|  0%   35C    P8     7W / 120W |    454MiB /  6075MiB |      0%      Default |\n",
    "+-------------------------------+----------------------+----------------------+\n",
    "```"
   ]
  },
  {
   "cell_type": "code",
   "execution_count": 1,
   "metadata": {},
   "outputs": [
    {
     "name": "stdout",
     "output_type": "stream",
     "text": [
      "Fri Jan  3 21:18:42 2020       \n",
      "+-----------------------------------------------------------------------------+\n",
      "| NVIDIA-SMI 435.21       Driver Version: 435.21       CUDA Version: 10.1     |\n",
      "|-------------------------------+----------------------+----------------------+\n",
      "| GPU  Name        Persistence-M| Bus-Id        Disp.A | Volatile Uncorr. ECC |\n",
      "| Fan  Temp  Perf  Pwr:Usage/Cap|         Memory-Usage | GPU-Util  Compute M. |\n",
      "|===============================+======================+======================|\n",
      "|   0  GeForce GTX 106...  Off  | 00000000:01:00.0  On |                  N/A |\n",
      "|  0%   34C    P8     7W / 120W |    651MiB /  6075MiB |      0%      Default |\n",
      "+-------------------------------+----------------------+----------------------+\n",
      "                                                                               \n",
      "+-----------------------------------------------------------------------------+\n",
      "| Processes:                                                       GPU Memory |\n",
      "|  GPU       PID   Type   Process name                             Usage      |\n",
      "|=============================================================================|\n",
      "+-----------------------------------------------------------------------------+\n"
     ]
    }
   ],
   "source": [
    "!nvidia-smi"
   ]
  },
  {
   "cell_type": "markdown",
   "metadata": {},
   "source": [
    "# TensorFlow GPU support\n",
    "\n",
    "Ensure tensorflow has functional gpu support. You should have a GPU line \n",
    "referencing the GPU identified by nvidia-smi above."
   ]
  },
  {
   "cell_type": "code",
   "execution_count": 2,
   "metadata": {},
   "outputs": [
    {
     "name": "stdout",
     "output_type": "stream",
     "text": [
      "Default GPU Device: /device:GPU:0\n",
      "[[22. 28.]\n",
      " [49. 64.]]\n"
     ]
    }
   ],
   "source": [
    "import tensorflow as tf\n",
    "if tf.test.gpu_device_name():\n",
    "    print('Default GPU Device: {}'.format(tf.test.gpu_device_name()))\n",
    "else:\n",
    "    print(\"Please install GPU version of TF\")\n",
    "    \n",
    "with tf.device(tf.test.gpu_device_name()):\n",
    "    a = tf.constant([1.0, 2.0, 3.0, 4.0, 5.0, 6.0], shape=[2, 3], name='a')\n",
    "    b = tf.constant([1.0, 2.0, 3.0, 4.0, 5.0, 6.0], shape=[3, 2], name='b')\n",
    "    c = tf.matmul(a, b)\n",
    "    # Creates a session with log_device_placement set to True.\n",
    "    sess = tf.Session(config=tf.ConfigProto())\n",
    "    # Runs the op.\n",
    "    r = sess.run(c)\n",
    "    print(r)\n",
    "    import numpy as np\n",
    "    assert np.all(r == np.array([[22., 28.], [49., 64.]]))"
   ]
  },
  {
   "cell_type": "markdown",
   "metadata": {},
   "source": [
    "# OpenCV CUDA Support\n",
    "\n",
    "Ensure opencv was built with gpu support"
   ]
  },
  {
   "cell_type": "code",
   "execution_count": 3,
   "metadata": {},
   "outputs": [
    {
     "name": "stdout",
     "output_type": "stream",
     "text": [
      "\n",
      "General configuration for OpenCV 4.2.0 =====================================\n",
      "  Version control:               unknown\n",
      "\n",
      "  Extra modules:\n",
      "    Location (extra):            /opencv_contrib-4.2.0/modules\n",
      "    Version control (extra):     unknown\n",
      "\n",
      "  Platform:\n",
      "    Timestamp:                   2020-01-03T14:38:08Z\n",
      "    Host:                        Linux 5.3.0-24-generic x86_64\n",
      "    CMake:                       3.10.2\n",
      "    CMake generator:             Unix Makefiles\n",
      "    CMake build tool:            /usr/bin/make\n",
      "    Configuration:               RELEASE\n",
      "\n",
      "  CPU/HW features:\n",
      "    Baseline:                    SSE SSE2 SSE3\n",
      "      requested:                 SSE3\n",
      "    Dispatched code generation:  SSE4_1 SSE4_2 FP16 AVX AVX2 AVX512_SKX\n",
      "      requested:                 SSE4_1 SSE4_2 AVX FP16 AVX2 AVX512_SKX\n",
      "      SSE4_1 (16 files):         + SSSE3 SSE4_1\n",
      "      SSE4_2 (2 files):          + SSSE3 SSE4_1 POPCNT SSE4_2\n",
      "      FP16 (1 files):            + SSSE3 SSE4_1 POPCNT SSE4_2 FP16 AVX\n",
      "      AVX (5 files):             + SSSE3 SSE4_1 POPCNT SSE4_2 AVX\n",
      "      AVX2 (29 files):           + SSSE3 SSE4_1 POPCNT SSE4_2 FP16 FMA3 AVX AVX2\n",
      "      AVX512_SKX (6 files):      + SSSE3 SSE4_1 POPCNT SSE4_2 FP16 FMA3 AVX AVX2 AVX_512F AVX512_COMMON AVX512_SKX\n",
      "\n",
      "  C/C++:\n",
      "    Built as dynamic libs?:      YES\n",
      "    C++ Compiler:                /usr/bin/c++  (ver 7.4.0)\n",
      "    C++ flags (Release):         -fsigned-char -ffast-math -W -Wall -Werror=return-type -Werror=non-virtual-dtor -Werror=address -Werror=sequence-point -Wformat -Werror=format-security -Wmissing-declarations -Wundef -Winit-self -Wpointer-arith -Wshadow -Wsign-promo -Wuninitialized -Winit-self -Wsuggest-override -Wno-delete-non-virtual-dtor -Wno-comment -Wimplicit-fallthrough=3 -Wno-strict-overflow -fdiagnostics-show-option -Wno-long-long -pthread -fomit-frame-pointer -ffunction-sections -fdata-sections  -msse -msse2 -msse3 -fvisibility=hidden -fvisibility-inlines-hidden -O3 -DNDEBUG  -DNDEBUG\n",
      "    C++ flags (Debug):           -fsigned-char -ffast-math -W -Wall -Werror=return-type -Werror=non-virtual-dtor -Werror=address -Werror=sequence-point -Wformat -Werror=format-security -Wmissing-declarations -Wundef -Winit-self -Wpointer-arith -Wshadow -Wsign-promo -Wuninitialized -Winit-self -Wsuggest-override -Wno-delete-non-virtual-dtor -Wno-comment -Wimplicit-fallthrough=3 -Wno-strict-overflow -fdiagnostics-show-option -Wno-long-long -pthread -fomit-frame-pointer -ffunction-sections -fdata-sections  -msse -msse2 -msse3 -fvisibility=hidden -fvisibility-inlines-hidden -g  -O0 -DDEBUG -D_DEBUG\n",
      "    C Compiler:                  /usr/bin/cc\n",
      "    C flags (Release):           -fsigned-char -ffast-math -W -Wall -Werror=return-type -Werror=non-virtual-dtor -Werror=address -Werror=sequence-point -Wformat -Werror=format-security -Wmissing-declarations -Wmissing-prototypes -Wstrict-prototypes -Wundef -Winit-self -Wpointer-arith -Wshadow -Wuninitialized -Winit-self -Wno-comment -Wimplicit-fallthrough=3 -Wno-strict-overflow -fdiagnostics-show-option -Wno-long-long -pthread -fomit-frame-pointer -ffunction-sections -fdata-sections  -msse -msse2 -msse3 -fvisibility=hidden -O3 -DNDEBUG  -DNDEBUG\n",
      "    C flags (Debug):             -fsigned-char -ffast-math -W -Wall -Werror=return-type -Werror=non-virtual-dtor -Werror=address -Werror=sequence-point -Wformat -Werror=format-security -Wmissing-declarations -Wmissing-prototypes -Wstrict-prototypes -Wundef -Winit-self -Wpointer-arith -Wshadow -Wuninitialized -Winit-self -Wno-comment -Wimplicit-fallthrough=3 -Wno-strict-overflow -fdiagnostics-show-option -Wno-long-long -pthread -fomit-frame-pointer -ffunction-sections -fdata-sections  -msse -msse2 -msse3 -fvisibility=hidden -g  -O0 -DDEBUG -D_DEBUG\n",
      "    Linker flags (Release):      -Wl,--gc-sections  \n",
      "    Linker flags (Debug):        -Wl,--gc-sections  \n",
      "    ccache:                      YES\n",
      "    Precompiled headers:         NO\n",
      "    Extra dependencies:          m pthread cudart_static -lpthread dl rt nppc nppial nppicc nppicom nppidei nppif nppig nppim nppist nppisu nppitc npps cublas cudnn cufft -L/usr/local/cuda/lib64 -L/usr/lib/x86_64-linux-gnu\n",
      "    3rdparty dependencies:\n",
      "\n",
      "  OpenCV modules:\n",
      "    To be built:                 aruco bgsegm bioinspired calib3d ccalib core cudaarithm cudabgsegm cudacodec cudafeatures2d cudafilters cudaimgproc cudalegacy cudaobjdetect cudaoptflow cudastereo cudawarping cudev datasets dnn dnn_objdetect dnn_superres dpm face features2d flann freetype fuzzy gapi hdf hfs highgui img_hash imgcodecs imgproc java line_descriptor ml objdetect optflow phase_unwrapping photo plot python3 quality reg rgbd saliency sfm shape stereo stitching structured_light superres surface_matching text tracking ts video videoio videostab xfeatures2d ximgproc xobjdetect xphoto\n",
      "    Disabled:                    world\n",
      "    Disabled by dependency:      -\n",
      "    Unavailable:                 cnn_3dobj cvv js matlab ovis python2 viz\n",
      "    Applications:                tests perf_tests apps\n",
      "    Documentation:               NO\n",
      "    Non-free algorithms:         NO\n",
      "\n",
      "  GUI: \n",
      "    GTK+:                        YES (ver 2.24.32)\n",
      "      GThread :                  YES (ver 2.56.4)\n",
      "      GtkGlExt:                  NO\n",
      "    VTK support:                 NO\n",
      "\n",
      "  Media I/O: \n",
      "    ZLib:                        /usr/lib/x86_64-linux-gnu/libz.so (ver 1.2.11)\n",
      "    JPEG:                        /usr/lib/x86_64-linux-gnu/libjpeg.so (ver 80)\n",
      "    WEBP:                        build (ver encoder: 0x020e)\n",
      "    PNG:                         /usr/lib/x86_64-linux-gnu/libpng.so (ver 1.6.34)\n",
      "    TIFF:                        /usr/lib/x86_64-linux-gnu/libtiff.so (ver 42 / 4.0.9)\n",
      "    JPEG 2000:                   build (ver 1.900.1)\n",
      "    OpenEXR:                     build (ver 2.3.0)\n",
      "    HDR:                         YES\n",
      "    SUNRASTER:                   YES\n",
      "    PXM:                         YES\n",
      "    PFM:                         YES\n",
      "\n",
      "  Video I/O:\n",
      "    DC1394:                      YES (2.2.5)\n",
      "    FFMPEG:                      YES\n",
      "      avcodec:                   YES (57.107.100)\n",
      "      avformat:                  YES (57.83.100)\n",
      "      avutil:                    YES (55.78.100)\n",
      "      swscale:                   YES (4.8.100)\n",
      "      avresample:                YES (3.7.0)\n",
      "    GStreamer:                   YES (1.14.5)\n",
      "    v4l/v4l2:                    YES (linux/videodev2.h)\n",
      "\n",
      "  Parallel framework:            TBB (ver 2017.0 interface 9107)\n",
      "\n",
      "  Trace:                         YES (with Intel ITT)\n",
      "\n",
      "  Other third-party libraries:\n",
      "    Intel IPP:                   2019.0.0 Gold [2019.0.0]\n",
      "           at:                   /build/3rdparty/ippicv/ippicv_lnx/icv\n",
      "    Intel IPP IW:                sources (2019.0.0)\n",
      "              at:                /build/3rdparty/ippicv/ippicv_lnx/iw\n",
      "    Lapack:                      NO\n",
      "    Eigen:                       YES (ver 3.3.4)\n",
      "    Custom HAL:                  NO\n",
      "    Protobuf:                    build (3.5.1)\n",
      "\n",
      "  NVIDIA CUDA:                   YES (ver 10.0, CUFFT CUBLAS FAST_MATH)\n",
      "    NVIDIA GPU arch:             53 60 60 61 62 70 75\n",
      "    NVIDIA PTX archs:\n",
      "\n",
      "  cuDNN:                         YES (ver 7.6.5)\n",
      "\n",
      "  OpenCL:                        YES (no extra features)\n",
      "    Include path:                /opencv-4.2.0/3rdparty/include/opencl/1.2\n",
      "    Link libraries:              Dynamic load\n",
      "\n",
      "  Python 3:\n",
      "    Interpreter:                 /opt/conda/bin/python (ver 3.7.4)\n",
      "    Libraries:                   /opt/conda/lib/libpython3.7m.so (ver 3.7.4)\n",
      "    numpy:                       /opt/conda/lib/python3.7/site-packages/numpy/core/include (ver 1.17.2)\n",
      "    install path:                lib/python3.7/site-packages/cv2/python-3.7\n",
      "\n",
      "  Python (for build):            /opt/conda/bin/python\n",
      "\n",
      "  Java:                          \n",
      "    ant:                         /usr/bin/ant (ver 1.10.5)\n",
      "    JNI:                         /usr/lib/jvm/java-1.8.0-amazon-corretto/include /usr/lib/jvm/java-1.8.0-amazon-corretto/include/linux /usr/lib/jvm/java-1.8.0-amazon-corretto/include\n",
      "    Java wrappers:               YES\n",
      "    Java tests:                  YES\n",
      "\n",
      "  Install to:                    /opt/conda\n",
      "-----------------------------------------------------------------\n",
      "\n",
      "\n"
     ]
    }
   ],
   "source": [
    "import cv2\n",
    "print(cv2.getBuildInformation())"
   ]
  },
  {
   "cell_type": "code",
   "execution_count": 4,
   "metadata": {},
   "outputs": [
    {
     "name": "stdout",
     "output_type": "stream",
     "text": [
      "CUDA upload succeeded: True\n",
      "CUDA arithmetic succeeded: True\n"
     ]
    }
   ],
   "source": [
    "import numpy as np\n",
    "import cv2 as cv\n",
    "import os\n",
    "\n",
    "if not cv.cuda.getCudaEnabledDeviceCount():\n",
    "    print(\"No CUDA-enabled OpenCV devices found\")\n",
    "else:\n",
    "    npMat = (np.random.random((128, 128, 3)) * 255).astype(np.uint8)\n",
    "    cuMat = cv.cuda_GpuMat()\n",
    "    cuMat.upload(npMat)\n",
    "    print (\"CUDA upload succeeded: \" + str(np.allclose(cuMat.download(), npMat)))\n",
    "    \n",
    "    npMat1 = np.random.random((128, 128, 3)) - 0.5\n",
    "    npMat2 = np.random.random((128, 128, 3)) - 0.5\n",
    "\n",
    "    cuMat1 = cv.cuda_GpuMat()\n",
    "    cuMat2 = cv.cuda_GpuMat()\n",
    "    cuMat1.upload(npMat1)\n",
    "    cuMat2.upload(npMat2)\n",
    "    cuMatDst = cv.cuda_GpuMat(cuMat1.size(),cuMat1.type())\n",
    "\n",
    "    print (\"CUDA arithmetic succeeded: \" + str(np.allclose(cv.cuda.add(cuMat1, cuMat2).download(),\n",
    "                                     cv.add(npMat1, npMat2))))"
   ]
  },
  {
   "cell_type": "markdown",
   "metadata": {},
   "source": [
    "# Working Directories "
   ]
  },
  {
   "cell_type": "code",
   "execution_count": 5,
   "metadata": {},
   "outputs": [
    {
     "name": "stdout",
     "output_type": "stream",
     "text": [
      "\tdirectory: True readable: True writable: False \t ../data\n",
      "\tdirectory: True readable: True writable: True \t ../src/tf_configs\n",
      "\tdirectory: True readable: True writable: True \t ../src\n",
      "\tdirectory: True readable: True writable: True \t ../scratch\n",
      "\tdirectory: True readable: True writable: True \t ../scratch/models\n",
      "\tdirectory: True readable: True writable: True \t ../scratch/tf_records/\n",
      "\tdirectory: True readable: True writable: True \t ../scratch/train/checkpoints\n"
     ]
    }
   ],
   "source": [
    "import os\n",
    "from os import makedirs\n",
    "from os.path import isdir\n",
    "\n",
    "readable = [\"../data\"]\n",
    "writable = [\n",
    "    \"../src/tf_configs\",\n",
    "    \"../src\",\n",
    "    \"../scratch\",\n",
    "    \"../scratch/models\",\n",
    "    \"../scratch/tf_records/\",\n",
    "    \"../scratch/train/checkpoints\"\n",
    "]\n",
    "\n",
    "for f in writable:\n",
    "    makedirs(f, exist_ok=True)\n",
    "    \n",
    "for f in readable + writable:\n",
    "    print(\"\\tdirectory:\", isdir(f), \"readable:\", os.access(f, os.R_OK), \"writable:\", os.access(f, os.W_OK), \"\\t\", f)"
   ]
  },
  {
   "cell_type": "markdown",
   "metadata": {},
   "source": [
    "# Download Models"
   ]
  },
  {
   "cell_type": "code",
   "execution_count": 6,
   "metadata": {},
   "outputs": [
    {
     "name": "stdout",
     "output_type": "stream",
     "text": [
      "faster_rcnn_resnet101_coco_2018_01_28/\n",
      "faster_rcnn_resnet101_coco_2018_01_28/model.ckpt.index\n",
      "faster_rcnn_resnet101_coco_2018_01_28/checkpoint\n",
      "faster_rcnn_resnet101_coco_2018_01_28/pipeline.config\n",
      "faster_rcnn_resnet101_coco_2018_01_28/model.ckpt.data-00000-of-00001\n",
      "faster_rcnn_resnet101_coco_2018_01_28/model.ckpt.meta\n",
      "faster_rcnn_resnet101_coco_2018_01_28/saved_model/\n",
      "faster_rcnn_resnet101_coco_2018_01_28/saved_model/saved_model.pb\n",
      "faster_rcnn_resnet101_coco_2018_01_28/saved_model/variables/\n",
      "faster_rcnn_resnet101_coco_2018_01_28/frozen_inference_graph.pb\n"
     ]
    }
   ],
   "source": [
    "! cd ../scratch/models && curl -sL http://download.tensorflow.org/models/object_detection/faster_rcnn_resnet101_coco_2018_01_28.tar.gz | tar -xzv"
   ]
  },
  {
   "cell_type": "code",
   "execution_count": null,
   "metadata": {},
   "outputs": [],
   "source": []
  }
 ],
 "metadata": {
  "kernelspec": {
   "display_name": "Python 3",
   "language": "python",
   "name": "python3"
  },
  "language_info": {
   "codemirror_mode": {
    "name": "ipython",
    "version": 3
   },
   "file_extension": ".py",
   "mimetype": "text/x-python",
   "name": "python",
   "nbconvert_exporter": "python",
   "pygments_lexer": "ipython3",
   "version": "3.7.4"
  }
 },
 "nbformat": 4,
 "nbformat_minor": 4
}
